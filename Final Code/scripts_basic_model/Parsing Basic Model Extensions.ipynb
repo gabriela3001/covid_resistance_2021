{
 "cells": [
  {
   "cell_type": "code",
   "execution_count": 4,
   "id": "17e98ef7",
   "metadata": {},
   "outputs": [],
   "source": [
    "import os\n",
    "import pickle\n",
    "from collections import defaultdict\n",
    "from itertools import product\n",
    "import numpy as np\n",
    "import matplotlib.pyplot as plt\n",
    "import pandas as pd"
   ]
  },
  {
   "cell_type": "code",
   "execution_count": 5,
   "id": "42abc6fa",
   "metadata": {},
   "outputs": [],
   "source": [
    "def parse_results(directory, length_param_grid):\n",
    "    \n",
    "    files = [x for x in os.listdir(directory) if 'results' in x and '.txt.txt' not in x]\n",
    "\n",
    "    results_dict = defaultdict(lambda:0)\n",
    "    number_runs = defaultdict(lambda:0)\n",
    "    all_params = []\n",
    "\n",
    "    for file in files:\n",
    "        param = int(file.split('_')[-2][1:])\n",
    "        run_number = int(file.split('_')[-1].split('.')[0][1:])\n",
    "\n",
    "        with open(directory+file, 'rb') as f:\n",
    "            result = pickle.load(f)\n",
    "\n",
    "        results_dict[param] += sum(result['presence_VR'])\n",
    "        number_runs[param] += 10\n",
    "\n",
    "        all_params.append((param, run_number))\n",
    "\n",
    "    results_dict = dict(results_dict)\n",
    "    \n",
    "    # check that all runs are present\n",
    "    missing = set(product(range(length_param_grid), range(100))).symmetric_difference(set(all_params))\n",
    "    if len(missing) == 0:\n",
    "        print('All runs have been parsed')\n",
    "    else:\n",
    "        print('Some runs are missing:', missing)\n",
    "    \n",
    "    percentage_takeover = dict(zip(list(results_dict.keys()), [results_dict[p]/number_runs[p] for p in list(results_dict.keys())]))\n",
    "    confidence_intervals =  dict(zip(list(results_dict.keys()),[1.96*np.sqrt((percentage_takeover[p]*(1-percentage_takeover[p]))/1000) for p in list(results_dict.keys())]))\n",
    "    \n",
    "    return(percentage_takeover, confidence_intervals)"
   ]
  },
  {
   "cell_type": "code",
   "execution_count": 6,
   "id": "dfde2037",
   "metadata": {},
   "outputs": [],
   "source": [
    "def get_index(df, desired_dict):\n",
    "\n",
    "    subdf = df.copy()\n",
    "\n",
    "    for keyval in desired_dict:\n",
    "        if keyval in subdf.columns:\n",
    "            subdf = subdf[subdf[keyval] == desired_dict[keyval]]\n",
    "        \n",
    "    # check that index unique\n",
    "    if len(list(subdf.index)) != 1:\n",
    "        print('Index not unique')\n",
    "        \n",
    "    return(subdf.index[0])\n",
    "\n",
    "def get_paramgrid(file):\n",
    "    with open(file, 'rb') as f:\n",
    "        paramgrid = pickle.load(f)\n",
    "    df = pd.DataFrame(paramgrid)  \n",
    "    return(df)"
   ]
  },
  {
   "cell_type": "code",
   "execution_count": 7,
   "id": "de4a8b08",
   "metadata": {},
   "outputs": [
    {
     "name": "stdout",
     "output_type": "stream",
     "text": [
      "All runs have been parsed\n",
      "All runs have been parsed\n",
      "All runs have been parsed\n",
      "All runs have been parsed\n"
     ]
    }
   ],
   "source": [
    "basic_results, basic_ci = parse_results('bar_chart/basic_model/', 72)\n",
    "social_distancing_results, social_distancing_ci = parse_results('bar_chart/social_distancing/', 72)\n",
    "vaccine_hesitancy_results, vaccine_hesitancy_ci = parse_results('bar_chart/vaccine_hesitancy/', 144)\n",
    "seasonality_results, seasonality_ci = parse_results('bar_chart/seasonality/',64)"
   ]
  },
  {
   "cell_type": "code",
   "execution_count": 8,
   "id": "f6b2f499",
   "metadata": {},
   "outputs": [],
   "source": [
    "all_simulations = ['basic', 'social_distancing', 'vaccine_hesitancy', 'seasonality']\n",
    "\n",
    "paramgrid_files = {'basic':'bar_chart/basic_model/paramgrid_appearance_barchart_basic.txt', \n",
    "                  'social_distancing':'bar_chart/social_distancing/paramgrid_appearance_barchart_socialdistancing.txt',\n",
    "                  'vaccine_hesitancy':'bar_chart/vaccine_hesitancy/paramgrid_appearance_barchart_vaccinehesitancy.txt',\n",
    "                  'seasonality':'bar_chart/seasonality/paramgrid_appearance_barchart_seasonality.txt'}\n",
    "\n",
    "df_basic, df_social_distancing, df_vaccine_hesitancy, df_seasonality = [get_paramgrid(paramgrid_files[file]) for file in all_simulations]\n",
    "\n",
    "dfs = dict(zip(all_simulations, [df_basic, df_social_distancing, df_vaccine_hesitancy, df_seasonality]))\n",
    "all_results = dict(zip(all_simulations, [basic_results, social_distancing_results, vaccine_hesitancy_results, seasonality_results])) \n",
    "all_ci = dict(zip(all_simulations, [basic_ci, social_distancing_ci, vaccine_hesitancy_ci, seasonality_ci])) "
   ]
  },
  {
   "cell_type": "code",
   "execution_count": 20,
   "id": "545be85c",
   "metadata": {},
   "outputs": [],
   "source": [
    "h = 0.3\n",
    "q = 1\n",
    "delta = 2\n",
    "mu = 1e-6\n",
    "season = 0.9\n",
    "f = 2\n",
    "N =1e6\n",
    "\n",
    "combs_cl = [(100,1000),(100,10000),(500,1000),(500,10000)]"
   ]
  },
  {
   "cell_type": "code",
   "execution_count": 21,
   "id": "52939194",
   "metadata": {},
   "outputs": [],
   "source": [
    "all_bar_results = [] \n",
    "all_bar_ci = [] \n",
    "\n",
    "for L, c in combs_cl:\n",
    "    bar_results = defaultdict(list)\n",
    "    bar_ci = defaultdict(list)\n",
    "    desired_dict = {'delta':delta, 'mu':mu, 'q':q, 'c':c, 'i_threshold':L, 'hesitancy':h, 'season':season}\n",
    "\n",
    "    for sim in all_simulations:\n",
    "        bar_results[sim] = all_results[sim][get_index(dfs[sim], desired_dict)]\n",
    "        bar_ci[sim] = all_ci[sim][get_index(dfs[sim], desired_dict)]\n",
    "\n",
    "    desired_dict['season'] = 1.1\n",
    "    bar_results['seasonality2'] = all_results[sim][get_index(dfs[sim], desired_dict)]\n",
    "    bar_ci['seasonality2'] = all_ci[sim][get_index(dfs[sim], desired_dict)]\n",
    "    \n",
    "    TH = N/(L+c)*(2/3)\n",
    "    bar_results['theory'] = 1-delta_theory(TH, N, mu, L, c, f)\n",
    "    bar_ci['theory'] = 0\n",
    "    \n",
    "    all_bar_results.append(list(bar_results.values()))\n",
    "    all_bar_ci.append(list(bar_ci.values()))"
   ]
  },
  {
   "cell_type": "code",
   "execution_count": 22,
   "id": "68b10675",
   "metadata": {},
   "outputs": [],
   "source": [
    "all_labels = ['Basic Model', 'Social Distancing Every Week', 'Vaccine Hesitancy 30%', 'Seasonality: 10% Infectivity Decrease in Winter', 'Seasonality: 10% Infectivity Increase in Winter', 'Analytical Prediction']"
   ]
  },
  {
   "cell_type": "code",
   "execution_count": 23,
   "id": "af3a41aa",
   "metadata": {},
   "outputs": [],
   "source": [
    "def delta_theory(t, N, mu, L, c, f):\n",
    "    p1 = -L*mu*((f-1)/f)*t\n",
    "    p2 = -L*mu*((c+L)/(2*N*f))*t**2\n",
    "    return(np.exp(p1+p2))"
   ]
  },
  {
   "cell_type": "code",
   "execution_count": 25,
   "id": "fce203a6",
   "metadata": {
    "scrolled": false
   },
   "outputs": [
    {
     "data": {
      "image/png": "[encoded data removed]",
      "text/plain": [
       "<Figure size 720x504 with 1 Axes>"
      ]
     },
     "metadata": {
      "needs_background": "light"
     },
     "output_type": "display_data"
    }
   ],
   "source": [
    "x = np.arange(0,4.,1)  # the label locations\n",
    "width = 0.1  # the width of the bars\n",
    "pos = np.arange(0,3.,0.5)\n",
    "\n",
    "fig, ax = plt.subplots(figsize = (10,7))\n",
    "\n",
    "for n in range(6):\n",
    "    bars = ax.bar(x + pos[n]*width*2, np.array(all_bar_results)[:,n], width, yerr = np.array(all_bar_ci)[:,n], label=all_labels[n])\n",
    "    \n",
    "\n",
    "ax.set_ylabel('Probability of Emergence of \\n Vaccine Resistance', fontsize = 16)\n",
    "ax.set_xticks(x+0.2)\n",
    "ax.set_xticklabels(['$L$ = ' + str(x[0]) + '\\n$c$ = ' + str(x[1])  for x in combs_cl], fontsize = 14)\n",
    "ax.legend(fontsize = 14, bbox_to_anchor = (2.,1.1))\n",
    "ax.set_ylim(0.,0.25)\n",
    "ax.tick_params(labelsize = '14')\n",
    "\n",
    "plt.savefig('Fig_SEP14_delta2_mu6.jpg', dpi=400)"
   ]
  },
  {
   "cell_type": "code",
   "execution_count": 14,
   "id": "6cc60518",
   "metadata": {},
   "outputs": [],
   "source": [
    "def parse_results_death(directory, length_param_grid):\n",
    "    \n",
    "    files = [x for x in os.listdir(directory) if 'results' in x]\n",
    "\n",
    "    results_dict = defaultdict(lambda:0)\n",
    "    number_runs = defaultdict(lambda:0)\n",
    "    all_params = []\n",
    "\n",
    "    for file in files:\n",
    "        param = int(file.split('_')[-2][1:])\n",
    "        run_number = int(file.split('_')[-1].split('.')[0][1:])\n",
    "\n",
    "        with open(directory+file, 'rb') as f:\n",
    "            result = pickle.load(f)\n",
    "\n",
    "        #print(result)\n",
    "        results_dict[param] += sum(result['death_rates'])/10\n",
    "        number_runs[param] += 10\n",
    "\n",
    "        all_params.append((param, run_number))\n",
    "\n",
    "    results_dict = dict(results_dict)\n",
    "    \n",
    "    # check that all runs are present\n",
    "    missing = set(product(range(length_param_grid), range(100))).symmetric_difference(set(all_params))\n",
    "    if len(missing) == 0:\n",
    "        print('All runs have been parsed')\n",
    "    else:\n",
    "        print('Some runs are missing:', missing)\n",
    "    \n",
    "    percentage_takeover = dict(zip(list(results_dict.keys()), [results_dict[p]/number_runs[p] for p in list(results_dict.keys())]))    \n",
    "    return(percentage_takeover)"
   ]
  },
  {
   "cell_type": "code",
   "execution_count": 129,
   "id": "e02bac52",
   "metadata": {},
   "outputs": [
    {
     "name": "stdout",
     "output_type": "stream",
     "text": [
      "All runs have been parsed\n"
     ]
    }
   ],
   "source": [
    "social_distancing_results_death = parse_results_death('bar_chart/social_distancing/', 72)"
   ]
  },
  {
   "cell_type": "code",
   "execution_count": 130,
   "id": "2967884a",
   "metadata": {},
   "outputs": [
    {
     "ename": "KeyError",
     "evalue": "'death_rates'",
     "output_type": "error",
     "traceback": [
      "\u001b[1;31m---------------------------------------------------------------------------\u001b[0m",
      "\u001b[1;31mKeyError\u001b[0m                                  Traceback (most recent call last)",
      "\u001b[1;32m<ipython-input-130-1decb1ca395c>\u001b[0m in \u001b[0;36m<module>\u001b[1;34m\u001b[0m\n\u001b[1;32m----> 1\u001b[1;33m \u001b[0mbasic_results_death\u001b[0m\u001b[1;33m=\u001b[0m \u001b[0mparse_results_death\u001b[0m\u001b[1;33m(\u001b[0m\u001b[1;34m'bar_chart/basic_model/'\u001b[0m\u001b[1;33m,\u001b[0m \u001b[1;36m72\u001b[0m\u001b[1;33m)\u001b[0m\u001b[1;33m\u001b[0m\u001b[1;33m\u001b[0m\u001b[0m\n\u001b[0m\u001b[0;32m      2\u001b[0m \u001b[0msocial_distancing_results_death\u001b[0m \u001b[1;33m=\u001b[0m \u001b[0mparse_results_death\u001b[0m\u001b[1;33m(\u001b[0m\u001b[1;34m'bar_chart/social_distancing/'\u001b[0m\u001b[1;33m,\u001b[0m \u001b[1;36m72\u001b[0m\u001b[1;33m)\u001b[0m\u001b[1;33m\u001b[0m\u001b[1;33m\u001b[0m\u001b[0m\n\u001b[0;32m      3\u001b[0m \u001b[0mvaccine_hesitancy_results_death\u001b[0m \u001b[1;33m=\u001b[0m \u001b[0mparse_results_death\u001b[0m\u001b[1;33m(\u001b[0m\u001b[1;34m'bar_chart/vaccine_hesitancy/'\u001b[0m\u001b[1;33m,\u001b[0m \u001b[1;36m144\u001b[0m\u001b[1;33m)\u001b[0m\u001b[1;33m\u001b[0m\u001b[1;33m\u001b[0m\u001b[0m\n\u001b[0;32m      4\u001b[0m \u001b[0mseasonality_results_death\u001b[0m \u001b[1;33m=\u001b[0m \u001b[0mparse_results_death\u001b[0m\u001b[1;33m(\u001b[0m\u001b[1;34m'bar_chart/seasonality/'\u001b[0m\u001b[1;33m,\u001b[0m\u001b[1;36m64\u001b[0m\u001b[1;33m)\u001b[0m\u001b[1;33m\u001b[0m\u001b[1;33m\u001b[0m\u001b[0m\n",
      "\u001b[1;32m<ipython-input-126-044e5f5680d9>\u001b[0m in \u001b[0;36mparse_results_death\u001b[1;34m(directory, length_param_grid)\u001b[0m\n\u001b[0;32m     15\u001b[0m \u001b[1;33m\u001b[0m\u001b[0m\n\u001b[0;32m     16\u001b[0m         \u001b[1;31m#print(result)\u001b[0m\u001b[1;33m\u001b[0m\u001b[1;33m\u001b[0m\u001b[1;33m\u001b[0m\u001b[0m\n\u001b[1;32m---> 17\u001b[1;33m         \u001b[0mresults_dict\u001b[0m\u001b[1;33m[\u001b[0m\u001b[0mparam\u001b[0m\u001b[1;33m]\u001b[0m \u001b[1;33m+=\u001b[0m \u001b[0msum\u001b[0m\u001b[1;33m(\u001b[0m\u001b[0mresult\u001b[0m\u001b[1;33m[\u001b[0m\u001b[1;34m'death_rates'\u001b[0m\u001b[1;33m]\u001b[0m\u001b[1;33m)\u001b[0m\u001b[1;33m/\u001b[0m\u001b[1;36m10\u001b[0m\u001b[1;33m\u001b[0m\u001b[1;33m\u001b[0m\u001b[0m\n\u001b[0m\u001b[0;32m     18\u001b[0m         \u001b[0mnumber_runs\u001b[0m\u001b[1;33m[\u001b[0m\u001b[0mparam\u001b[0m\u001b[1;33m]\u001b[0m \u001b[1;33m+=\u001b[0m \u001b[1;36m10\u001b[0m\u001b[1;33m\u001b[0m\u001b[1;33m\u001b[0m\u001b[0m\n\u001b[0;32m     19\u001b[0m \u001b[1;33m\u001b[0m\u001b[0m\n",
      "\u001b[1;31mKeyError\u001b[0m: 'death_rates'"
     ]
    }
   ],
   "source": [
    "basic_results_death= parse_results_death('bar_chart/basic_model/', 72)\n",
    "social_distancing_results_death = parse_results_death('bar_chart/social_distancing/', 72)\n",
    "vaccine_hesitancy_results_death = parse_results_death('bar_chart/vaccine_hesitancy/', 144)\n",
    "seasonality_results_death = parse_results_death('bar_chart/seasonality/',64)"
   ]
  },
  {
   "cell_type": "code",
   "execution_count": null,
   "id": "57ad7ebc",
   "metadata": {},
   "outputs": [],
   "source": []
  }
 ],
 "metadata": {
  "kernelspec": {
   "display_name": "Python 3",
   "language": "python",
   "name": "python3"
  },
  "language_info": {
   "codemirror_mode": {
    "name": "ipython",
    "version": 3
   },
   "file_extension": ".py",
   "mimetype": "text/x-python",
   "name": "python",
   "nbconvert_exporter": "python",
   "pygments_lexer": "ipython3",
   "version": "3.8.8"
  }
 },
 "nbformat": 4,
 "nbformat_minor": 5
}
