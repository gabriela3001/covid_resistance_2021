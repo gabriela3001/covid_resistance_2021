{
 "cells": [
  {
   "cell_type": "code",
   "execution_count": 33,
   "id": "2f8e5146",
   "metadata": {},
   "outputs": [],
   "source": [
    "import os\n",
    "import pickle\n",
    "from collections import defaultdict\n",
    "from itertools import product\n",
    "import numpy as np\n",
    "import matplotlib.pyplot as plt\n",
    "import pandas as pd"
   ]
  },
  {
   "cell_type": "code",
   "execution_count": 34,
   "id": "3d11e888",
   "metadata": {},
   "outputs": [],
   "source": [
    "## set directory to be the directory where the sensitivity analysis results are stored\n",
    "directory = 'sensitivity_analysis/'\n",
    "files = [x for x in os.listdir(directory) if 'results' in x]"
   ]
  },
  {
   "cell_type": "code",
   "execution_count": 35,
   "id": "18f464f9",
   "metadata": {},
   "outputs": [],
   "source": [
    "death_files = [x for x in files if 'death' in x]\n",
    "reproduction_files = [x for x in files if 'reproduction' in x]\n",
    "recovery_files = [x for x in files if 'recovery' in x]\n",
    "sthreshold_files =  [x for x in files if 'sthreshold' in x]"
   ]
  },
  {
   "cell_type": "code",
   "execution_count": 36,
   "id": "e9fbc030",
   "metadata": {},
   "outputs": [],
   "source": [
    "file = sthreshold_files[0]"
   ]
  },
  {
   "cell_type": "code",
   "execution_count": 37,
   "id": "a9a28ff8",
   "metadata": {},
   "outputs": [],
   "source": [
    "param = int(file.split('_')[3].strip('p'))\n",
    "run_number = int(file.split('_')[4].strip('r'))"
   ]
  },
  {
   "cell_type": "code",
   "execution_count": 38,
   "id": "b403f214",
   "metadata": {},
   "outputs": [],
   "source": [
    "def parse_files(files):\n",
    "    results_dict = defaultdict(lambda:0)\n",
    "    number_runs = defaultdict(lambda:0)\n",
    "    all_params = []\n",
    "\n",
    "    for file in files:\n",
    "        param = int(file.split('_')[3].strip('p'))\n",
    "        run_number = int(file.split('_')[4].strip('r'))\n",
    "\n",
    "        with open(directory+file, 'rb') as f:\n",
    "            result = pickle.load(f)\n",
    "\n",
    "        results_dict[param] += sum(result['presence_VR'])\n",
    "        number_runs[param] += 10\n",
    "\n",
    "        all_params.append((param, run_number))\n",
    "\n",
    "    results_dict = dict(results_dict)\n",
    "    \n",
    "    # check that all runs are present\n",
    "    length_param_grid = 3\n",
    "    missing = set(product(range(length_param_grid), range(100))).symmetric_difference(set(all_params))\n",
    "    if len(missing) == 0:\n",
    "        print('All runs have been parsed')\n",
    "    else:\n",
    "        print('Some runs are missing:', missing)\n",
    "    \n",
    "    percentage_takeover = dict(zip(list(results_dict.keys()), [results_dict[p]/number_runs[p] for p in list(results_dict.keys())]))\n",
    "    confidence_intervals =  dict(zip(list(results_dict.keys()),[1.96*np.sqrt((percentage_takeover[p]*(1-percentage_takeover[p]))/1000) for p in list(results_dict.keys())]))\n",
    "    \n",
    "    return([percentage_takeover, confidence_intervals])"
   ]
  },
  {
   "cell_type": "code",
   "execution_count": 39,
   "id": "63d66819",
   "metadata": {},
   "outputs": [
    {
     "name": "stdout",
     "output_type": "stream",
     "text": [
      "All runs have been parsed\n",
      "All runs have been parsed\n",
      "All runs have been parsed\n",
      "All runs have been parsed\n"
     ]
    }
   ],
   "source": [
    "death_results, death_ci = parse_files(death_files)\n",
    "reproduction_results, reproduction_ci = parse_files(reproduction_files)\n",
    "recovery_results, recovery_ci = parse_files(recovery_files)\n",
    "sthreshold_results, sthreshold_ci = parse_files(sthreshold_files)"
   ]
  },
  {
   "cell_type": "code",
   "execution_count": 44,
   "id": "dda68071",
   "metadata": {},
   "outputs": [],
   "source": [
    "## load paramgrid for sensitivity analysis\n",
    "with open('sensitivity_analysis/paramgrid_appearance_sensitivity_analysis_sthreshold.txt', 'rb') as f:\n",
    "    df = pickle.load(f)"
   ]
  },
  {
   "cell_type": "code",
   "execution_count": 46,
   "id": "e4790840",
   "metadata": {},
   "outputs": [
    {
     "data": {
      "image/png": "[encoded data removed]",
      "text/plain": [
       "<Figure size 432x288 with 1 Axes>"
      ]
     },
     "metadata": {
      "needs_background": "light"
     },
     "output_type": "display_data"
    }
   ],
   "source": [
    "fig, ax = plt.subplots()\n",
    "\n",
    "ax.bar(np.arange(3), death_results.values(), yerr = death_ci.values())\n",
    "ax.bar(np.arange(3)+4, reproduction_results.values(), yerr = reproduction_ci.values())\n",
    "ax.bar(np.arange(3)+8, recovery_results.values(), yerr = recovery_ci.values())\n",
    "ax.bar(np.arange(3)+12, sthreshold_results.values(), yerr = sthreshold_ci.values())\n",
    "\n",
    "ax.set_xticks(list(np.arange(3)) + list(np.arange(3)+4) + list(np.arange(3)+8) + list(np.arange(3)+12))\n",
    "\n",
    "ax.set_xticklabels(['d='+str(d) for d in [0.005,0.01,0.02]] + ['R='+str(R) for R in [2,3,8]]\n",
    "                   + ['a='+str(a) for a in [0.1,0.25,0.5]] + ['$s_{thres}$='+str(s) for s in [0.05,0.1,0.15]], rotation = 90,\n",
    "                  fontsize = 13)\n",
    "\n",
    "ax.tick_params(axis='both', labelsize = 13)\n",
    "\n",
    "ax.set_ylabel('Probability of emergence\\n of vaccine resistance', fontsize = 14)\n",
    "plt.savefig('Sensitivity_Analysis_final.jpg', dpi = 400, bbox_inches = 'tight')\n",
    "plt.show()"
   ]
  },
  {
   "cell_type": "code",
   "execution_count": null,
   "id": "b4af59b8",
   "metadata": {},
   "outputs": [],
   "source": []
  }
 ],
 "metadata": {
  "kernelspec": {
   "display_name": "Python 3",
   "language": "python",
   "name": "python3"
  },
  "language_info": {
   "codemirror_mode": {
    "name": "ipython",
    "version": 3
   },
   "file_extension": ".py",
   "mimetype": "text/x-python",
   "name": "python",
   "nbconvert_exporter": "python",
   "pygments_lexer": "ipython3",
   "version": "3.8.8"
  }
 },
 "nbformat": 4,
 "nbformat_minor": 5
}
