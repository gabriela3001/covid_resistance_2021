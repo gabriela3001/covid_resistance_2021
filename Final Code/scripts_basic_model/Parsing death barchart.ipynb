{
 "cells": [
  {
   "cell_type": "code",
   "execution_count": 85,
   "id": "d95fe073",
   "metadata": {},
   "outputs": [],
   "source": [
    "import os\n",
    "import pickle\n",
    "from collections import defaultdict\n",
    "from itertools import product\n",
    "import numpy as np\n",
    "import matplotlib.pyplot as plt\n",
    "import pandas as pd"
   ]
  },
  {
   "cell_type": "code",
   "execution_count": 86,
   "id": "23534cb4",
   "metadata": {},
   "outputs": [],
   "source": [
    "directory = 'bar_chart/basic_model/'\n",
    "files = [x for x in os.listdir(directory) if 'results' in x and '.txt.txt' not in x]"
   ]
  },
  {
   "cell_type": "code",
   "execution_count": 87,
   "id": "cf34b61a",
   "metadata": {},
   "outputs": [],
   "source": [
    "results_dict = defaultdict(lambda:0)\n",
    "number_runs = defaultdict(lambda:0)\n",
    "all_params = []\n",
    "\n",
    "\n",
    "for file in files:\n",
    "    param = int(file.split('_')[-2][1:])\n",
    "    run_number = int(file.split('_')[-1].split('.')[0][1:])\n",
    "\n",
    "    with open(directory+file, 'rb') as f:\n",
    "        result = pickle.load(f)\n",
    "\n",
    "    results_dict[param] += sum(result['deaths'])\n",
    "    number_runs[param] += 10\n",
    "    \n",
    "results_dict = dict(results_dict)\n",
    "death_number = dict(zip(list(results_dict.keys()), [np.sum(results_dict[p])/number_runs[p] for p in list(results_dict.keys())]))\n",
    "confidence_intervals = dict(zip(list(results_dict.keys()), [1.96*np.std(results_dict[p])/np.sqrt(number_runs[p]) for p in list(results_dict.keys())]))"
   ]
  },
  {
   "cell_type": "code",
   "execution_count": 88,
   "id": "1563ac22",
   "metadata": {},
   "outputs": [],
   "source": [
    "def get_index(df, desired_dict):\n",
    "\n",
    "    subdf = df.copy()\n",
    "\n",
    "    for keyval in desired_dict:\n",
    "        if keyval in subdf.columns:\n",
    "            subdf = subdf[subdf[keyval] == desired_dict[keyval]]\n",
    "        \n",
    "    # check that index unique\n",
    "    if len(list(subdf.index)) != 1:\n",
    "        print('Index not unique')\n",
    "        \n",
    "    return(subdf.index[0])\n",
    "\n",
    "def get_paramgrid(file):\n",
    "    with open(file, 'rb') as f:\n",
    "        paramgrid = pickle.load(f)\n",
    "    df = pd.DataFrame(paramgrid)  \n",
    "    return(df)"
   ]
  },
  {
   "cell_type": "code",
   "execution_count": 89,
   "id": "bd73980e",
   "metadata": {},
   "outputs": [],
   "source": [
    "q = 1\n",
    "mu = 1e-6\n",
    "combs_cl = [(100,1000),(100,10000),(500,1000),(500,10000)]"
   ]
  },
  {
   "cell_type": "code",
   "execution_count": 90,
   "id": "128cd84f",
   "metadata": {},
   "outputs": [],
   "source": [
    "df = get_paramgrid('bar_chart/basic_model/paramgrid_appearance_barchart_basic.txt')"
   ]
  },
  {
   "cell_type": "code",
   "execution_count": 91,
   "id": "1d8d704a",
   "metadata": {},
   "outputs": [
    {
     "data": {
      "text/html": [
       "<div>\n",
       "<style scoped>\n",
       "    .dataframe tbody tr th:only-of-type {\n",
       "        vertical-align: middle;\n",
       "    }\n",
       "\n",
       "    .dataframe tbody tr th {\n",
       "        vertical-align: top;\n",
       "    }\n",
       "\n",
       "    .dataframe thead th {\n",
       "        text-align: right;\n",
       "    }\n",
       "</style>\n",
       "<table border=\"1\" class=\"dataframe\">\n",
       "  <thead>\n",
       "    <tr style=\"text-align: right;\">\n",
       "      <th></th>\n",
       "      <th>N</th>\n",
       "      <th>a</th>\n",
       "      <th>c</th>\n",
       "      <th>d</th>\n",
       "      <th>delta</th>\n",
       "      <th>i_threshold</th>\n",
       "      <th>mu</th>\n",
       "      <th>q</th>\n",
       "      <th>s_threshold</th>\n",
       "    </tr>\n",
       "  </thead>\n",
       "  <tbody>\n",
       "    <tr>\n",
       "      <th>0</th>\n",
       "      <td>1000000.0</td>\n",
       "      <td>0.25</td>\n",
       "      <td>1000</td>\n",
       "      <td>0.01</td>\n",
       "      <td>1</td>\n",
       "      <td>100</td>\n",
       "      <td>1.000000e-07</td>\n",
       "      <td>0.4</td>\n",
       "      <td>0.1</td>\n",
       "    </tr>\n",
       "    <tr>\n",
       "      <th>1</th>\n",
       "      <td>1000000.0</td>\n",
       "      <td>0.25</td>\n",
       "      <td>1000</td>\n",
       "      <td>0.01</td>\n",
       "      <td>1</td>\n",
       "      <td>100</td>\n",
       "      <td>1.000000e-07</td>\n",
       "      <td>1.0</td>\n",
       "      <td>0.1</td>\n",
       "    </tr>\n",
       "    <tr>\n",
       "      <th>2</th>\n",
       "      <td>1000000.0</td>\n",
       "      <td>0.25</td>\n",
       "      <td>1000</td>\n",
       "      <td>0.01</td>\n",
       "      <td>1</td>\n",
       "      <td>100</td>\n",
       "      <td>1.000000e-06</td>\n",
       "      <td>0.4</td>\n",
       "      <td>0.1</td>\n",
       "    </tr>\n",
       "    <tr>\n",
       "      <th>3</th>\n",
       "      <td>1000000.0</td>\n",
       "      <td>0.25</td>\n",
       "      <td>1000</td>\n",
       "      <td>0.01</td>\n",
       "      <td>1</td>\n",
       "      <td>100</td>\n",
       "      <td>1.000000e-06</td>\n",
       "      <td>1.0</td>\n",
       "      <td>0.1</td>\n",
       "    </tr>\n",
       "    <tr>\n",
       "      <th>4</th>\n",
       "      <td>1000000.0</td>\n",
       "      <td>0.25</td>\n",
       "      <td>1000</td>\n",
       "      <td>0.01</td>\n",
       "      <td>1</td>\n",
       "      <td>250</td>\n",
       "      <td>1.000000e-07</td>\n",
       "      <td>0.4</td>\n",
       "      <td>0.1</td>\n",
       "    </tr>\n",
       "    <tr>\n",
       "      <th>...</th>\n",
       "      <td>...</td>\n",
       "      <td>...</td>\n",
       "      <td>...</td>\n",
       "      <td>...</td>\n",
       "      <td>...</td>\n",
       "      <td>...</td>\n",
       "      <td>...</td>\n",
       "      <td>...</td>\n",
       "      <td>...</td>\n",
       "    </tr>\n",
       "    <tr>\n",
       "      <th>67</th>\n",
       "      <td>1000000.0</td>\n",
       "      <td>0.25</td>\n",
       "      <td>10000</td>\n",
       "      <td>0.01</td>\n",
       "      <td>2</td>\n",
       "      <td>250</td>\n",
       "      <td>1.000000e-06</td>\n",
       "      <td>1.0</td>\n",
       "      <td>0.1</td>\n",
       "    </tr>\n",
       "    <tr>\n",
       "      <th>68</th>\n",
       "      <td>1000000.0</td>\n",
       "      <td>0.25</td>\n",
       "      <td>10000</td>\n",
       "      <td>0.01</td>\n",
       "      <td>2</td>\n",
       "      <td>500</td>\n",
       "      <td>1.000000e-07</td>\n",
       "      <td>0.4</td>\n",
       "      <td>0.1</td>\n",
       "    </tr>\n",
       "    <tr>\n",
       "      <th>69</th>\n",
       "      <td>1000000.0</td>\n",
       "      <td>0.25</td>\n",
       "      <td>10000</td>\n",
       "      <td>0.01</td>\n",
       "      <td>2</td>\n",
       "      <td>500</td>\n",
       "      <td>1.000000e-07</td>\n",
       "      <td>1.0</td>\n",
       "      <td>0.1</td>\n",
       "    </tr>\n",
       "    <tr>\n",
       "      <th>70</th>\n",
       "      <td>1000000.0</td>\n",
       "      <td>0.25</td>\n",
       "      <td>10000</td>\n",
       "      <td>0.01</td>\n",
       "      <td>2</td>\n",
       "      <td>500</td>\n",
       "      <td>1.000000e-06</td>\n",
       "      <td>0.4</td>\n",
       "      <td>0.1</td>\n",
       "    </tr>\n",
       "    <tr>\n",
       "      <th>71</th>\n",
       "      <td>1000000.0</td>\n",
       "      <td>0.25</td>\n",
       "      <td>10000</td>\n",
       "      <td>0.01</td>\n",
       "      <td>2</td>\n",
       "      <td>500</td>\n",
       "      <td>1.000000e-06</td>\n",
       "      <td>1.0</td>\n",
       "      <td>0.1</td>\n",
       "    </tr>\n",
       "  </tbody>\n",
       "</table>\n",
       "<p>72 rows × 9 columns</p>\n",
       "</div>"
      ],
      "text/plain": [
       "            N     a      c     d  delta  i_threshold            mu    q  \\\n",
       "0   1000000.0  0.25   1000  0.01      1          100  1.000000e-07  0.4   \n",
       "1   1000000.0  0.25   1000  0.01      1          100  1.000000e-07  1.0   \n",
       "2   1000000.0  0.25   1000  0.01      1          100  1.000000e-06  0.4   \n",
       "3   1000000.0  0.25   1000  0.01      1          100  1.000000e-06  1.0   \n",
       "4   1000000.0  0.25   1000  0.01      1          250  1.000000e-07  0.4   \n",
       "..        ...   ...    ...   ...    ...          ...           ...  ...   \n",
       "67  1000000.0  0.25  10000  0.01      2          250  1.000000e-06  1.0   \n",
       "68  1000000.0  0.25  10000  0.01      2          500  1.000000e-07  0.4   \n",
       "69  1000000.0  0.25  10000  0.01      2          500  1.000000e-07  1.0   \n",
       "70  1000000.0  0.25  10000  0.01      2          500  1.000000e-06  0.4   \n",
       "71  1000000.0  0.25  10000  0.01      2          500  1.000000e-06  1.0   \n",
       "\n",
       "    s_threshold  \n",
       "0           0.1  \n",
       "1           0.1  \n",
       "2           0.1  \n",
       "3           0.1  \n",
       "4           0.1  \n",
       "..          ...  \n",
       "67          0.1  \n",
       "68          0.1  \n",
       "69          0.1  \n",
       "70          0.1  \n",
       "71          0.1  \n",
       "\n",
       "[72 rows x 9 columns]"
      ]
     },
     "execution_count": 91,
     "metadata": {},
     "output_type": "execute_result"
    }
   ],
   "source": [
    "df"
   ]
  },
  {
   "cell_type": "code",
   "execution_count": 92,
   "id": "ee9ae3ad",
   "metadata": {},
   "outputs": [],
   "source": [
    "all_bar_results = [] \n",
    "all_bar_ci = [] \n",
    "\n",
    "for L, c in combs_cl:\n",
    "    desired_dict = {'mu':mu, 'q':q, 'c':c, 'i_threshold':L, 'delta':1}\n",
    "\n",
    "    all_bar_results.append(death_number[get_index(df, desired_dict)])\n",
    "    all_bar_ci.append(confidence_intervals[get_index(df, desired_dict)])"
   ]
  },
  {
   "cell_type": "code",
   "execution_count": 93,
   "id": "0e45fb4f",
   "metadata": {},
   "outputs": [
    {
     "name": "stdout",
     "output_type": "stream",
     "text": [
      "63.492063492063494\n"
     ]
    }
   ],
   "source": [
    "TH = 1e6/(500+10000)*(2/3)\n",
    "print(TH)"
   ]
  },
  {
   "cell_type": "code",
   "execution_count": 94,
   "id": "d815a99c",
   "metadata": {},
   "outputs": [
    {
     "data": {
      "text/plain": [
       "300.0"
      ]
     },
     "execution_count": 94,
     "metadata": {},
     "output_type": "execute_result"
    }
   ],
   "source": [
    "60*0.01*500"
   ]
  },
  {
   "cell_type": "code",
   "execution_count": 95,
   "id": "8147638f",
   "metadata": {},
   "outputs": [
    {
     "name": "stdout",
     "output_type": "stream",
     "text": [
      "365.0\n",
      "66.006600660066\n",
      "365.0\n",
      "63.492063492063494\n"
     ]
    }
   ],
   "source": [
    "theoretical = []\n",
    "for L, c in combs_cl:\n",
    "    TH = np.min([(1e6)/(L+c)*(2/3),365])\n",
    "    print(TH)\n",
    "    theoretical.append(L*0.01*TH)"
   ]
  },
  {
   "cell_type": "code",
   "execution_count": 96,
   "id": "bc521af4",
   "metadata": {},
   "outputs": [
    {
     "data": {
      "text/plain": [
       "[365.696, 73.916, 1806.395, 387.092]"
      ]
     },
     "execution_count": 96,
     "metadata": {},
     "output_type": "execute_result"
    }
   ],
   "source": [
    "all_bar_results"
   ]
  },
  {
   "cell_type": "code",
   "execution_count": null,
   "id": "969ff341",
   "metadata": {},
   "outputs": [],
   "source": []
  },
  {
   "cell_type": "code",
   "execution_count": 97,
   "id": "9eb7ab88",
   "metadata": {},
   "outputs": [
    {
     "data": {
      "image/png": "[encoded data removed]",
      "text/plain": [
       "<Figure size 720x504 with 1 Axes>"
      ]
     },
     "metadata": {
      "needs_background": "light"
     },
     "output_type": "display_data"
    }
   ],
   "source": [
    "fig, ax = plt.subplots(figsize = (10,7))\n",
    "\n",
    "ax.bar(np.arange(4), all_bar_results, width = 0.5)\n",
    "#ax.bar(np.arange(4), theoretical, width = 0.5, fill = False, color = 'k')\n",
    "ax.set_xticks(np.arange(4))\n",
    "ax.set_xticklabels(['$L$ = ' + str(x[0]) + '\\n$c$ = ' + str(x[1])  for x in combs_cl], fontsize = 14)\n",
    "ax.set_ylabel('Number of deaths in first year', fontsize = 15)\n",
    "ax.tick_params(labelsize = 14)\n",
    "#ax.legend(['Simulated', 'Theoretical'], fontsize = 15)\n",
    "plt.savefig('deaths_basicmodel_onlysim.jpg', dpi = 400)\n",
    "plt.show()"
   ]
  },
  {
   "cell_type": "code",
   "execution_count": null,
   "id": "234f4adc",
   "metadata": {},
   "outputs": [],
   "source": []
  }
 ],
 "metadata": {
  "kernelspec": {
   "display_name": "Python 3",
   "language": "python",
   "name": "python3"
  },
  "language_info": {
   "codemirror_mode": {
    "name": "ipython",
    "version": 3
   },
   "file_extension": ".py",
   "mimetype": "text/x-python",
   "name": "python",
   "nbconvert_exporter": "python",
   "pygments_lexer": "ipython3",
   "version": "3.8.8"
  }
 },
 "nbformat": 4,
 "nbformat_minor": 5
}
