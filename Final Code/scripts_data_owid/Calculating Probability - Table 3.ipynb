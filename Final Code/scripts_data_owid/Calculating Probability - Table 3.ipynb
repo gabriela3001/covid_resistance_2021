{
 "cells": [
  {
   "cell_type": "code",
   "execution_count": 1,
   "id": "95345ad4",
   "metadata": {},
   "outputs": [],
   "source": [
    "import pickle\n",
    "import numpy as np\n",
    "import matplotlib.pyplot as plt\n",
    "import os\n",
    "import pandas as pd\n",
    "from sklearn.model_selection import ParameterGrid"
   ]
  },
  {
   "cell_type": "code",
   "execution_count": 10,
   "id": "c6d0179a",
   "metadata": {},
   "outputs": [],
   "source": [
    "def time_herd_immunity(N, c, L, R0):\n",
    "    return((N/(c+L))*(1-1/R0))\n",
    "\n",
    "def probability_along_time(t, mu, N, c, L):\n",
    "    p1 = -mu*0.5\n",
    "    p2 = L*(c+L)/N\n",
    "    return(1-np.exp(p1*p2*t**2))\n",
    "\n",
    "def probability_total(mu, N, c, L, R0):\n",
    "    p1 = -mu*N*0.5\n",
    "    p2 = L/(c+L)\n",
    "    p3 = (1-1/R0)**2\n",
    "    \n",
    "    return(1-np.exp(p1*p2*p3))"
   ]
  },
  {
   "cell_type": "code",
   "execution_count": null,
   "id": "3d2aef16",
   "metadata": {},
   "outputs": [],
   "source": [
    "mu = 1e-7\n",
    "c = 1000000\n",
    "L = 100000\n",
    "R0 = 3\n",
    "N = 1e9"
   ]
  },
  {
   "cell_type": "code",
   "execution_count": null,
   "id": "93287e3a",
   "metadata": {},
   "outputs": [],
   "source": [
    "TH = time_herd_immunity(N, c, L, R0)\n",
    "print(probability_along_time(TH, mu, c, L))\n",
    "print(probability_total(mu, N, c, L, R0))"
   ]
  },
  {
   "cell_type": "code",
   "execution_count": 3,
   "id": "030b7260",
   "metadata": {},
   "outputs": [],
   "source": [
    "c_values = [1000,5000,10000]\n",
    "L_values = [100,200,500]\n",
    "\n",
    "param_grid_dict = {'L':L_values, 'c':c_values, 'mu':[1e-7], 'N':[1e8,1e9]}\n",
    "param_grid = ParameterGrid(param_grid_dict)"
   ]
  },
  {
   "cell_type": "code",
   "execution_count": 4,
   "id": "23631a7b",
   "metadata": {},
   "outputs": [
    {
     "data": {
      "text/plain": [
       "18"
      ]
     },
     "execution_count": 4,
     "metadata": {},
     "output_type": "execute_result"
    }
   ],
   "source": [
    "len(param_grid)"
   ]
  },
  {
   "cell_type": "code",
   "execution_count": 6,
   "id": "5d899320",
   "metadata": {},
   "outputs": [],
   "source": [
    "R0 = 3"
   ]
  },
  {
   "cell_type": "code",
   "execution_count": 14,
   "id": "795e5cb8",
   "metadata": {
    "scrolled": false
   },
   "outputs": [
    {
     "name": "stdout",
     "output_type": "stream",
     "text": [
      "{'L': 100, 'N': 1000000000.0, 'c': 1000, 'mu': 1e-07}\n",
      "1000.0\n",
      "Time to herd immunity =606.0606060606061\n",
      "Days: 50 P: 0.013655900532955956\n",
      "Days: 100 P: 0.05351485204651618\n",
      "Days: 200 P: 0.1974812020375215\n",
      "Until herd immunity:606.0606060606061 P: 0.867371331296937\n",
      "\n",
      "\n",
      "\n",
      "{'L': 100, 'N': 1000000000.0, 'c': 5000, 'mu': 1e-07}\n",
      "1000.0\n",
      "Time to herd immunity =130.71895424836603\n",
      "Days: 50 P: 0.06176046990428874\n",
      "Days: 100 P: 0.22508350203891903\n",
      "Days: 200 NA\n",
      "Until herd immunity:130.71895424836603 P: 0.3532075650678588\n",
      "\n",
      "\n",
      "\n",
      "{'L': 100, 'N': 1000000000.0, 'c': 10000, 'mu': 1e-07}\n",
      "1000.0\n",
      "Time to herd immunity =66.00660066006601\n",
      "Days: 50 P: 0.1186055293801116\n",
      "Days: 100 NA\n",
      "Days: 200 NA\n",
      "Until herd immunity:66.00660066006601 P: 0.1974988590225477\n",
      "\n",
      "\n",
      "\n",
      "{'L': 200, 'N': 1000000000.0, 'c': 1000, 'mu': 1e-07}\n",
      "1000.0\n",
      "Time to herd immunity =555.5555555555557\n",
      "Days: 50 P: 0.029554466451491845\n",
      "Days: 100 P: 0.11307956328284252\n",
      "Days: 200 P: 0.38121660819385916\n",
      "Until herd immunity:555.5555555555557 P: 0.9753678727838592\n",
      "\n",
      "\n",
      "\n",
      "{'L': 200, 'N': 1000000000.0, 'c': 5000, 'mu': 1e-07}\n",
      "1000.0\n",
      "Time to herd immunity =128.20512820512823\n",
      "Days: 50 P: 0.1219045690794387\n",
      "Days: 100 P: 0.4054794520298056\n",
      "Days: 200 NA\n",
      "Until herd immunity:128.20512820512823 P: 0.5745895684195587\n",
      "\n",
      "\n",
      "\n",
      "{'L': 200, 'N': 1000000000.0, 'c': 10000, 'mu': 1e-07}\n",
      "1000.0\n",
      "Time to herd immunity =65.35947712418302\n",
      "Days: 50 P: 0.22508350203891903\n",
      "Days: 100 NA\n",
      "Days: 200 NA\n",
      "Until herd immunity:65.35947712418302 P: 0.3532075650678588\n",
      "\n",
      "\n",
      "\n",
      "{'L': 500, 'N': 1000000000.0, 'c': 1000, 'mu': 1e-07}\n",
      "1000.0\n",
      "Time to herd immunity =444.44444444444446\n",
      "Days: 50 P: 0.08948963861996584\n",
      "Days: 100 P: 0.31271072120902776\n",
      "Days: 200 P: 0.7768698398515701\n",
      "Until herd immunity:444.44444444444446 P: 0.9993932583088079\n",
      "\n",
      "\n",
      "\n",
      "{'L': 500, 'N': 1000000000.0, 'c': 5000, 'mu': 1e-07}\n",
      "1000.0\n",
      "Time to herd immunity =121.21212121212122\n",
      "Days: 50 P: 0.2908938175626016\n",
      "Days: 100 P: 0.7471604041952535\n",
      "Days: 200 NA\n",
      "Until herd immunity:121.21212121212122 P: 0.867371331296937\n",
      "\n",
      "\n",
      "\n",
      "{'L': 500, 'N': 1000000000.0, 'c': 10000, 'mu': 1e-07}\n",
      "1000.0\n",
      "Time to herd immunity =63.4920634920635\n",
      "Days: 50 P: 0.48120683434611067\n",
      "Days: 100 NA\n",
      "Days: 200 NA\n",
      "Until herd immunity:63.4920634920635 P: 0.65292037489625\n",
      "\n",
      "\n",
      "\n"
     ]
    }
   ],
   "source": [
    "for paramset in param_grid:\n",
    "    \n",
    "    print(paramset)\n",
    "\n",
    "    scaling_factor = paramset['N']/1e6\n",
    "    print(scaling_factor)\n",
    "\n",
    "    TH = time_herd_immunity(paramset['N'], paramset['c']*scaling_factor,paramset['L']*scaling_factor,R0)\n",
    "    print('Time to herd immunity ='+str(TH))\n",
    "\n",
    "    for days in [50,100,200]:\n",
    "        if days < TH:\n",
    "            print('Days: ' + str(days) + ' P: ' + str(probability_along_time(days, paramset['mu'], paramset['N'], paramset['c']*scaling_factor,paramset['L']*scaling_factor)))\n",
    "        else:\n",
    "            print('Days: ' + str(days) + ' NA')\n",
    "\n",
    "\n",
    "    print('Until herd immunity:' + str(TH) + ' P: ' + str(probability_along_time(TH, paramset['mu'],  paramset['N'], paramset['c']*scaling_factor,paramset['L']*scaling_factor)))\n",
    "    print ('\\n\\n')"
   ]
  },
  {
   "cell_type": "code",
   "execution_count": null,
   "id": "8b386036",
   "metadata": {},
   "outputs": [],
   "source": []
  },
  {
   "cell_type": "code",
   "execution_count": null,
   "id": "e6f645f1",
   "metadata": {},
   "outputs": [],
   "source": []
  }
 ],
 "metadata": {
  "kernelspec": {
   "display_name": "Python 3",
   "language": "python",
   "name": "python3"
  },
  "language_info": {
   "codemirror_mode": {
    "name": "ipython",
    "version": 3
   },
   "file_extension": ".py",
   "mimetype": "text/x-python",
   "name": "python",
   "nbconvert_exporter": "python",
   "pygments_lexer": "ipython3",
   "version": "3.8.8"
  }
 },
 "nbformat": 4,
 "nbformat_minor": 5
}
