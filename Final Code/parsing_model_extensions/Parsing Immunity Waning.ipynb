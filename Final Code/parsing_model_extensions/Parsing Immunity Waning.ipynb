{
 "cells": [
  {
   "cell_type": "code",
   "execution_count": 1,
   "id": "9d2f9028",
   "metadata": {},
   "outputs": [],
   "source": [
    "import os\n",
    "import pickle\n",
    "from collections import defaultdict\n",
    "from itertools import product\n",
    "import numpy as np\n",
    "import matplotlib.pyplot as plt\n",
    "import pandas as pd"
   ]
  },
  {
   "cell_type": "code",
   "execution_count": 2,
   "id": "07cb6979",
   "metadata": {},
   "outputs": [],
   "source": [
    "def parse_results(directory, length_param_grid):\n",
    "    \n",
    "    files = [x for x in os.listdir(directory) if 'results' in x and '.txt.txt' not in x]\n",
    "\n",
    "    results_dict = defaultdict(lambda:0)\n",
    "    number_runs = defaultdict(lambda:0)\n",
    "    all_params = []\n",
    "\n",
    "    for file in files:\n",
    "        param = int(file.split('_')[-2][1:])\n",
    "        run_number = int(file.split('_')[-1].split('.')[0][1:])\n",
    "\n",
    "        with open(directory+file, 'rb') as f:\n",
    "            result = pickle.load(f)\n",
    "\n",
    "        results_dict[param] += sum(result['presence_VR'])\n",
    "        number_runs[param] += 10\n",
    "\n",
    "        all_params.append((param, run_number))\n",
    "\n",
    "    results_dict = dict(results_dict)\n",
    "    \n",
    "    # check that all runs are present\n",
    "    missing = set(product(range(length_param_grid), range(100))).symmetric_difference(set(all_params))\n",
    "    if len(missing) == 0:\n",
    "        print('All runs have been parsed')\n",
    "    else:\n",
    "        print('Some runs are missing:', missing)\n",
    "    \n",
    "    percentage_takeover = dict(zip(list(results_dict.keys()), [results_dict[p]/number_runs[p] for p in list(results_dict.keys())]))\n",
    "    confidence_intervals =  dict(zip(list(results_dict.keys()),[1.96*np.sqrt((percentage_takeover[p]*(1-percentage_takeover[p]))/1000) for p in list(results_dict.keys())]))\n",
    "    \n",
    "    return(percentage_takeover, confidence_intervals)"
   ]
  },
  {
   "cell_type": "code",
   "execution_count": 3,
   "id": "92d0ee43",
   "metadata": {},
   "outputs": [
    {
     "name": "stdout",
     "output_type": "stream",
     "text": [
      "All runs have been parsed\n",
      "All runs have been parsed\n",
      "All runs have been parsed\n"
     ]
    }
   ],
   "source": [
    "basic_results, basic_ci = parse_results('bar_chart/basic_model/', 72)\n",
    "immunitywaning_nobooster_results, immunitywaning_nobooster_ci = parse_results('bar_chart/immunity_waning_no_booster/', 72)\n",
    "immunitywaning_booster_results, immunitywaning_booster_ci = parse_results('bar_chart/immunity_waning_booster/', 72)"
   ]
  },
  {
   "cell_type": "code",
   "execution_count": 4,
   "id": "a5be29aa",
   "metadata": {},
   "outputs": [],
   "source": [
    "paramgrid_basic_file = 'bar_chart/basic_model/paramgrid_appearance_barchart_basic.txt'\n",
    "with open(paramgrid_basic_file, 'rb') as f:\n",
    "    paramgrid_basic = pickle.load(f)\n",
    "df_basic = pd.DataFrame(paramgrid_basic)\n",
    "\n",
    "paramgrid_immunity_file = 'bar_chart/immunity_waning_booster/paramgrid_appearance_barchart_immunitywaning.txt'\n",
    "with open(paramgrid_immunity_file, 'rb') as f:\n",
    "    paramgrid_immunity = pickle.load(f)\n",
    "df_immunity = pd.DataFrame(paramgrid_immunity)"
   ]
  },
  {
   "cell_type": "code",
   "execution_count": 5,
   "id": "b34f8612",
   "metadata": {},
   "outputs": [],
   "source": [
    "def get_index(df, desired_dict):\n",
    "\n",
    "    subdf = df.copy()\n",
    "\n",
    "    for keyval in desired_dict:\n",
    "        subdf = subdf[subdf[keyval] == desired_dict[keyval]]\n",
    "        \n",
    "    # check that index unique\n",
    "    if len(list(subdf.index)) != 1:\n",
    "        print('Index not unique')\n",
    "        \n",
    "    return(subdf.index[0])"
   ]
  },
  {
   "cell_type": "code",
   "execution_count": 29,
   "id": "0c3b95cb",
   "metadata": {},
   "outputs": [],
   "source": [
    "desired_dict =  {'delta':1, 'mu':1e-6, 'q':0.4, 'c':1000, 'i_threshold':500}"
   ]
  },
  {
   "cell_type": "code",
   "execution_count": 30,
   "id": "b5ba2f9b",
   "metadata": {},
   "outputs": [],
   "source": [
    "results_basic = []\n",
    "results_no_booster = []\n",
    "results_booster = []\n",
    "\n",
    "ci_basic = []\n",
    "ci_no_booster = []\n",
    "ci_booster = []\n",
    "\n",
    "combs_cl = [(100,1000),(100,10000),(500,1000),(500,10000)]\n",
    "\n",
    "for L,c in combs_cl:\n",
    "    \n",
    "    desired_dict['c'] = c\n",
    "    desired_dict['i_threshold'] = L\n",
    "    \n",
    "    results_basic.append(basic_results[get_index(df_basic, desired_dict)])\n",
    "    results_no_booster.append(immunitywaning_nobooster_results[get_index(df_immunity, desired_dict)])\n",
    "    results_booster.append(immunitywaning_booster_results[get_index(df_immunity, desired_dict)])\n",
    "    \n",
    "    ci_basic.append(basic_ci[get_index(df_basic, desired_dict)])\n",
    "    ci_no_booster.append(immunitywaning_nobooster_ci[get_index(df_immunity, desired_dict)])\n",
    "    ci_booster.append(immunitywaning_booster_ci[get_index(df_immunity, desired_dict)])"
   ]
  },
  {
   "cell_type": "code",
   "execution_count": 31,
   "id": "4ef1d536",
   "metadata": {},
   "outputs": [],
   "source": [
    "results_no_booster = np.array(results_no_booster)\n",
    "results_booster = np.array(results_booster)\n",
    "results_basic =  np.array(results_basic)"
   ]
  },
  {
   "cell_type": "code",
   "execution_count": 32,
   "id": "29d1cc4c",
   "metadata": {},
   "outputs": [
    {
     "data": {
      "text/plain": [
       "[0.006464732508000621,\n",
       " 0.0033897235285491943,\n",
       " 0.014487569071448806,\n",
       " 0.010046027752300906]"
      ]
     },
     "execution_count": 32,
     "metadata": {},
     "output_type": "execute_result"
    }
   ],
   "source": [
    "ci_booster"
   ]
  },
  {
   "cell_type": "code",
   "execution_count": 44,
   "id": "6a97cd24",
   "metadata": {},
   "outputs": [],
   "source": [
    "def immunity(t, N, mu, L, c, h):\n",
    "    p1 = (c*L*mu*(1-np.exp(-h*t)))/(h**2)\n",
    "    p2 = -(c*L*mu*t)/h\n",
    "    p3 = -(L*L*mu*t*t)/2\n",
    "    \n",
    "    print(p1,p2,p3)\n",
    "    \n",
    "    return(np.exp(p1+p2+p3))"
   ]
  },
  {
   "cell_type": "code",
   "execution_count": 45,
   "id": "819f06fa",
   "metadata": {},
   "outputs": [
    {
     "name": "stdout",
     "output_type": "stream",
     "text": [
      "63.49206349206349\n",
      "1.54320987654321e-05 -0.1763668430335097 -50.39052658100276\n",
      "1.0\n"
     ]
    }
   ],
   "source": [
    "L = 500\n",
    "c = 10000\n",
    "mu = 1e-7\n",
    "N = 1e6\n",
    "TH = N*(2/3)/(L+c)\n",
    "print(TH)\n",
    "print(1-immunity(TH, N, mu, L, c, 180))"
   ]
  },
  {
   "cell_type": "code",
   "execution_count": 36,
   "id": "e9bd9c60",
   "metadata": {},
   "outputs": [
    {
     "data": {
      "image/png": "[encoded data removed]",
      "text/plain": [
       "<Figure size 720x504 with 1 Axes>"
      ]
     },
     "metadata": {
      "needs_background": "light"
     },
     "output_type": "display_data"
    }
   ],
   "source": [
    "x = np.arange(0,4.,1)  # the label locations\n",
    "width = 0.1  # the width of the bars\n",
    "\n",
    "fig, ax = plt.subplots(figsize = (10,7))\n",
    "\n",
    "bars_basic = ax.bar(x - width, results_basic, width, yerr = ci_basic, label='Basic Model')\n",
    "bars_nobooster = ax.bar(x, results_no_booster, width, yerr = ci_no_booster, label='Immunity Waning, No Booster')\n",
    "bars_booster = ax.bar(x + width, results_booster, width,  yerr = ci_booster, label='Immunity Waning, Boosters')\n",
    "# Add some text for labels, title and custom x-axis tick labels, etc.\n",
    "ax.set_ylabel('Probability of Emergence of \\n Vaccine Resistance', fontsize = 16)\n",
    "#ax.set_title('Scores by group and gender')\n",
    "ax.set_xticks(x)\n",
    "ax.set_xticklabels(['$L$ = ' + str(x[0]) + '\\n$c$ = ' + str(x[1])  for x in combs_cl], fontsize = 14)\n",
    "#ax.legend(fontsize = 14)\n",
    "ax.set_ylim(0.,0.125)\n",
    "ax.tick_params(labelsize = '14')\n",
    "#ax.bar_label(bars_age_structure_0, padding=3)\n",
    "#ax.bar_label(bars_age_structure_1, padding=3)\n",
    "\n",
    "fig.tight_layout()\n",
    "plt.savefig('immunity_waning_mu6_q04_delta1.jpg', dpi = 400)\n",
    "plt.show()"
   ]
  },
  {
   "cell_type": "code",
   "execution_count": 87,
   "id": "320e6a81",
   "metadata": {},
   "outputs": [
    {
     "data": {
      "text/plain": [
       "array([0., 0., 0., 0.])"
      ]
     },
     "execution_count": 87,
     "metadata": {},
     "output_type": "execute_result"
    }
   ],
   "source": [
    "results_basic"
   ]
  },
  {
   "cell_type": "code",
   "execution_count": null,
   "id": "9cf35b03",
   "metadata": {},
   "outputs": [],
   "source": []
  }
 ],
 "metadata": {
  "kernelspec": {
   "display_name": "Python 3",
   "language": "python",
   "name": "python3"
  },
  "language_info": {
   "codemirror_mode": {
    "name": "ipython",
    "version": 3
   },
   "file_extension": ".py",
   "mimetype": "text/x-python",
   "name": "python",
   "nbconvert_exporter": "python",
   "pygments_lexer": "ipython3",
   "version": "3.8.8"
  }
 },
 "nbformat": 4,
 "nbformat_minor": 5
}
