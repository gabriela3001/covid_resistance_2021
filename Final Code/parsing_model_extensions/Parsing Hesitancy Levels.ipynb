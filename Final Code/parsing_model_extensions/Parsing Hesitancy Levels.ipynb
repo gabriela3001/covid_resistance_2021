{
 "cells": [
  {
   "cell_type": "code",
   "execution_count": 2,
   "id": "1907f8d4",
   "metadata": {},
   "outputs": [],
   "source": [
    "import os\n",
    "import pickle\n",
    "from collections import defaultdict\n",
    "from itertools import product\n",
    "import numpy as np\n",
    "import matplotlib.pyplot as plt\n",
    "import pandas as pd"
   ]
  },
  {
   "cell_type": "code",
   "execution_count": 3,
   "id": "e1c24892",
   "metadata": {},
   "outputs": [],
   "source": [
    "def parse_results(directory, length_param_grid):\n",
    "    \n",
    "    files = [x for x in os.listdir(directory) if 'results' in x and '.txt.txt' not in x]\n",
    "\n",
    "    results_dict = defaultdict(lambda:0)\n",
    "    number_runs = defaultdict(lambda:0)\n",
    "    all_params = []\n",
    "\n",
    "    for file in files:\n",
    "        param = int(file.split('_')[-2][1:])\n",
    "        run_number = int(file.split('_')[-1].split('.')[0][1:])\n",
    "\n",
    "        with open(directory+file, 'rb') as f:\n",
    "            result = pickle.load(f)\n",
    "\n",
    "        results_dict[param] += sum(result['presence_VR'])\n",
    "        number_runs[param] += 10\n",
    "\n",
    "        all_params.append((param, run_number))\n",
    "\n",
    "    results_dict = dict(results_dict)\n",
    "    \n",
    "    # check that all runs are present\n",
    "    missing = set(product(range(length_param_grid), range(100))).symmetric_difference(set(all_params))\n",
    "    if len(missing) == 0:\n",
    "        print('All runs have been parsed')\n",
    "    else:\n",
    "        print('Some runs are missing:', missing)\n",
    "    \n",
    "    percentage_takeover = dict(zip(list(results_dict.keys()), [results_dict[p]/number_runs[p] for p in list(results_dict.keys())]))\n",
    "    confidence_intervals =  dict(zip(list(results_dict.keys()),[1.96*np.sqrt((percentage_takeover[p]*(1-percentage_takeover[p]))/1000) for p in list(results_dict.keys())]))\n",
    "    \n",
    "    return(percentage_takeover, confidence_intervals)"
   ]
  },
  {
   "cell_type": "code",
   "execution_count": 4,
   "id": "d93d628b",
   "metadata": {},
   "outputs": [],
   "source": [
    "def get_index(df, desired_dict):\n",
    "\n",
    "    subdf = df.copy()\n",
    "\n",
    "    for keyval in desired_dict:\n",
    "        if keyval in subdf.columns:\n",
    "            subdf = subdf[subdf[keyval] == desired_dict[keyval]]\n",
    "        \n",
    "    # check that index unique\n",
    "    if len(list(subdf.index)) != 1:\n",
    "        print('Index not unique')\n",
    "        \n",
    "    return(subdf.index[0])\n",
    "\n",
    "def get_paramgrid(file):\n",
    "    with open(file, 'rb') as f:\n",
    "        paramgrid = pickle.load(f)\n",
    "    df = pd.DataFrame(paramgrid)  \n",
    "    return(df)"
   ]
  },
  {
   "cell_type": "code",
   "execution_count": 5,
   "id": "28502643",
   "metadata": {},
   "outputs": [
    {
     "name": "stdout",
     "output_type": "stream",
     "text": [
      "All runs have been parsed\n",
      "All runs have been parsed\n"
     ]
    }
   ],
   "source": [
    "basic_results, basic_ci = parse_results('bar_chart/basic_model/', 72)\n",
    "hesitancy_results, hesitancy_ci = parse_results('bar_chart/hesitancy/', 64)"
   ]
  },
  {
   "cell_type": "code",
   "execution_count": 6,
   "id": "15ac628d",
   "metadata": {},
   "outputs": [],
   "source": [
    "all_simulations = ['basic', 'hesitancy']\n",
    "\n",
    "paramgrid_files = {'basic':'bar_chart/basic_model/paramgrid_appearance_barchart_basic.txt', \n",
    "                  'hesitancy':'bar_chart/hesitancy/paramgrid_appearance_hesitancy_levels.txt'}\n",
    "\n",
    "df_basic, df_hesitancy = [get_paramgrid(paramgrid_files[file]) for file in all_simulations]\n",
    "\n",
    "dfs = dict(zip(all_simulations, [df_basic, df_hesitancy]))\n",
    "all_results = dict(zip(all_simulations, [basic_results, hesitancy_results])) \n",
    "all_ci = dict(zip(all_simulations, [basic_ci, hesitancy_ci])) "
   ]
  },
  {
   "cell_type": "code",
   "execution_count": 7,
   "id": "26288f86",
   "metadata": {},
   "outputs": [
    {
     "data": {
      "text/plain": [
       "{0.3, 0.4, 0.5, 0.6}"
      ]
     },
     "execution_count": 7,
     "metadata": {},
     "output_type": "execute_result"
    }
   ],
   "source": [
    "set(df_hesitancy['hesitancy'])"
   ]
  },
  {
   "cell_type": "code",
   "execution_count": 8,
   "id": "d8bc8627",
   "metadata": {},
   "outputs": [],
   "source": [
    "h = 0.3\n",
    "q = 1\n",
    "delta = 1\n",
    "mu = 1e-7\n",
    "season = 0.9\n",
    "f = 1\n",
    "combs_cl = [(100,1000),(100,10000),(500,1000),(500,10000)]"
   ]
  },
  {
   "cell_type": "code",
   "execution_count": 9,
   "id": "b7e89ed9",
   "metadata": {},
   "outputs": [],
   "source": [
    "all_bar_results = [] \n",
    "all_bar_ci = [] \n",
    "\n",
    "for L, c in combs_cl:\n",
    "    bar_results = defaultdict(list)\n",
    "    bar_ci = defaultdict(list)\n",
    "    desired_dict = {'delta':delta, 'mu':mu, 'q':q, 'c':c, 'i_threshold':L, 'hesitancy':h, 'season':season}\n",
    "    \n",
    "    bar_results['basic'] = basic_results[get_index(dfs['basic'], desired_dict)]\n",
    "    bar_ci['basic'] = basic_ci[get_index(dfs['basic'], desired_dict)]\n",
    "\n",
    "    for hes in sorted(list(set(df_hesitancy['hesitancy']))):\n",
    "        desired_dict['hesitancy'] = hes\n",
    "        bar_results[hes] = hesitancy_results[get_index(dfs['hesitancy'], desired_dict)]\n",
    "        bar_ci[hes] = hesitancy_ci[get_index(dfs['hesitancy'], desired_dict)]\n",
    "    \n",
    "    all_bar_results.append(list(bar_results.values()))\n",
    "    all_bar_ci.append(list(bar_ci.values()))"
   ]
  },
  {
   "cell_type": "code",
   "execution_count": 10,
   "id": "312ddf41",
   "metadata": {},
   "outputs": [],
   "source": [
    "all_labels = ['Basic model', 'Vaccine hesitancy-30%', 'Vaccine hesitancy-40%', 'Vaccine hesitancy-50%', 'Vaccine hesitancy-60%']"
   ]
  },
  {
   "cell_type": "code",
   "execution_count": 13,
   "id": "036bbb22",
   "metadata": {},
   "outputs": [
    {
     "data": {
      "image/png": "[encoded data removed]",
      "text/plain": [
       "<Figure size 720x504 with 1 Axes>"
      ]
     },
     "metadata": {
      "needs_background": "light"
     },
     "output_type": "display_data"
    }
   ],
   "source": [
    "x = np.arange(0,4.,1)  # the label locations\n",
    "width = 0.1  # the width of the bars\n",
    "pos = np.arange(0,3.,0.5)\n",
    "\n",
    "fig, ax = plt.subplots(figsize = (10,7))\n",
    "\n",
    "for n in range(5):\n",
    "    bars = ax.bar(x + pos[n]*width*2, np.array(all_bar_results)[:,n], width, yerr = np.array(all_bar_ci)[:,n], label=all_labels[n])\n",
    "    \n",
    "\n",
    "ax.set_ylabel('Probability of Emergence of \\n Vaccine Resistance', fontsize = 16)\n",
    "ax.set_xticks(x+0.2)\n",
    "ax.set_xticklabels(['$L$ = ' + str(x[0]) + '\\n$c$ = ' + str(x[1])  for x in combs_cl], fontsize = 14)\n",
    "#ax.legend(fontsize = 14, bbox_to_anchor = (1.4,1.))\n",
    "ax.set_ylim(0.,0.05)\n",
    "ax.tick_params(labelsize = '14')\n",
    "plt.savefig('Fig_SEP12_vaxhesitancylevels_mu7.jpg', dpi=400, bbox_inches = 'tight')"
   ]
  },
  {
   "cell_type": "code",
   "execution_count": null,
   "id": "88c10de4",
   "metadata": {},
   "outputs": [],
   "source": []
  }
 ],
 "metadata": {
  "kernelspec": {
   "display_name": "Python 3",
   "language": "python",
   "name": "python3"
  },
  "language_info": {
   "codemirror_mode": {
    "name": "ipython",
    "version": 3
   },
   "file_extension": ".py",
   "mimetype": "text/x-python",
   "name": "python",
   "nbconvert_exporter": "python",
   "pygments_lexer": "ipython3",
   "version": "3.8.8"
  }
 },
 "nbformat": 4,
 "nbformat_minor": 5
}
