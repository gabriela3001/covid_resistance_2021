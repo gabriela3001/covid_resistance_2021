{
 "cells": [
  {
   "cell_type": "code",
   "execution_count": 41,
   "id": "9c5ee9fa",
   "metadata": {},
   "outputs": [],
   "source": [
    "import os\n",
    "import pickle\n",
    "from collections import defaultdict\n",
    "from itertools import product\n",
    "import numpy as np\n",
    "import matplotlib.pyplot as plt\n",
    "import pandas as pd"
   ]
  },
  {
   "cell_type": "code",
   "execution_count": 42,
   "id": "5afefef5",
   "metadata": {},
   "outputs": [],
   "source": [
    "def parse_results(directory, length_param_grid):\n",
    "    \n",
    "    files = [x for x in os.listdir(directory) if 'results' in x and '.txt.txt' not in x]\n",
    "\n",
    "    results_dict = defaultdict(lambda:0)\n",
    "    number_runs = defaultdict(lambda:0)\n",
    "    all_params = []\n",
    "\n",
    "    for file in files:\n",
    "        param = int(file.split('_')[-2][1:])\n",
    "        run_number = int(file.split('_')[-1].split('.')[0][1:])\n",
    "\n",
    "        with open(directory+file, 'rb') as f:\n",
    "            result = pickle.load(f)\n",
    "\n",
    "        results_dict[param] += sum(result['presence_VR'])\n",
    "        number_runs[param] += 10\n",
    "\n",
    "        all_params.append((param, run_number))\n",
    "\n",
    "    results_dict = dict(results_dict)\n",
    "    \n",
    "    # check that all runs are present\n",
    "    missing = set(product(range(length_param_grid), range(100))).symmetric_difference(set(all_params))\n",
    "    if len(missing) == 0:\n",
    "        print('All runs have been parsed')\n",
    "    else:\n",
    "        print('Some runs are missing:', missing)\n",
    "    \n",
    "    percentage_takeover = dict(zip(list(results_dict.keys()), [results_dict[p]/number_runs[p] for p in list(results_dict.keys())]))\n",
    "    confidence_intervals =  dict(zip(list(results_dict.keys()),[1.96*np.sqrt((percentage_takeover[p]*(1-percentage_takeover[p]))/1000) for p in list(results_dict.keys())]))\n",
    "    \n",
    "    return(percentage_takeover, confidence_intervals)"
   ]
  },
  {
   "cell_type": "code",
   "execution_count": 43,
   "id": "1df466e0",
   "metadata": {},
   "outputs": [],
   "source": [
    "def get_index(df, desired_dict):\n",
    "\n",
    "    subdf = df.copy()\n",
    "\n",
    "    for keyval in desired_dict:\n",
    "        if keyval in subdf.columns:\n",
    "            subdf = subdf[subdf[keyval] == desired_dict[keyval]]\n",
    "        \n",
    "    # check that index unique\n",
    "    if len(list(subdf.index)) != 1:\n",
    "        print('Index not unique')\n",
    "        \n",
    "    return(subdf.index[0])\n",
    "\n",
    "def get_paramgrid(file):\n",
    "    with open(file, 'rb') as f:\n",
    "        paramgrid = pickle.load(f)\n",
    "    df = pd.DataFrame(paramgrid)  \n",
    "    return(df)"
   ]
  },
  {
   "cell_type": "code",
   "execution_count": 44,
   "id": "076c9277",
   "metadata": {},
   "outputs": [
    {
     "name": "stdout",
     "output_type": "stream",
     "text": [
      "All runs have been parsed\n"
     ]
    }
   ],
   "source": [
    "basic_results, basic_ci = parse_results('bar_chart/fitness_defect/', 36)"
   ]
  },
  {
   "cell_type": "code",
   "execution_count": 45,
   "id": "820d689d",
   "metadata": {},
   "outputs": [],
   "source": [
    "paramgrid_file = 'bar_chart/fitness_defect/paramgrid_appearance_barchart_fitnessdefect.txt'\n",
    "df = get_paramgrid(paramgrid_file)"
   ]
  },
  {
   "cell_type": "code",
   "execution_count": 91,
   "id": "5552964c",
   "metadata": {},
   "outputs": [],
   "source": [
    "h = 0.3\n",
    "q = 1\n",
    "delta = 2\n",
    "mu = 1e-6\n",
    "season = 0.9\n",
    "f = 0.8\n",
    "\n",
    "combs_cl = [(100,1000),(100,10000),(500,1000),(500,10000)]\n",
    "mu_range = sorted(list(set(df['mu'])))"
   ]
  },
  {
   "cell_type": "code",
   "execution_count": 92,
   "id": "d07cd7e8",
   "metadata": {},
   "outputs": [
    {
     "data": {
      "text/plain": [
       "[1e-07, 1e-06]"
      ]
     },
     "execution_count": 92,
     "metadata": {},
     "output_type": "execute_result"
    }
   ],
   "source": [
    "mu_range"
   ]
  },
  {
   "cell_type": "code",
   "execution_count": 93,
   "id": "e80e14e4",
   "metadata": {},
   "outputs": [
    {
     "data": {
      "text/plain": [
       "{0: 0.003,\n",
       " 10: 0.011,\n",
       " 11: 0.081,\n",
       " 12: 0.0,\n",
       " 13: 0.003,\n",
       " 14: 0.0,\n",
       " 15: 0.012,\n",
       " 16: 0.001,\n",
       " 17: 0.01,\n",
       " 18: 0.001,\n",
       " 19: 0.004,\n",
       " 1: 0.007,\n",
       " 20: 0.003,\n",
       " 21: 0.019,\n",
       " 22: 0.003,\n",
       " 23: 0.034,\n",
       " 24: 0.0,\n",
       " 25: 0.002,\n",
       " 26: 0.001,\n",
       " 27: 0.002,\n",
       " 28: 0.001,\n",
       " 29: 0.014,\n",
       " 2: 0.005,\n",
       " 30: 0.0,\n",
       " 31: 0.002,\n",
       " 32: 0.0,\n",
       " 33: 0.006,\n",
       " 34: 0.002,\n",
       " 35: 0.02,\n",
       " 3: 0.036,\n",
       " 4: 0.002,\n",
       " 5: 0.053,\n",
       " 6: 0.005,\n",
       " 7: 0.019,\n",
       " 8: 0.004,\n",
       " 9: 0.051}"
      ]
     },
     "execution_count": 93,
     "metadata": {},
     "output_type": "execute_result"
    }
   ],
   "source": [
    "basic_results"
   ]
  },
  {
   "cell_type": "code",
   "execution_count": 94,
   "id": "5e9420fa",
   "metadata": {},
   "outputs": [],
   "source": [
    "all_bar_results = [] \n",
    "all_bar_ci = [] \n",
    "\n",
    "for L, c in combs_cl:\n",
    "    bar_results = defaultdict(list)\n",
    "    bar_ci = defaultdict(list)\n",
    "    \n",
    "    desired_dict = {'delta':delta, 'mu':mu, 'q':q, 'c':c, 'i_threshold':L, 'hesitancy':h, 'season':season}\n",
    "    \n",
    "    for sim in [0.8,1]:\n",
    "        desired_dict['delta'] = sim\n",
    "        bar_results[sim] = basic_results[get_index(df, desired_dict)]\n",
    "        bar_ci[sim] = basic_ci[get_index(df, desired_dict)]\n",
    "            \n",
    "    all_bar_results.append(list(bar_results.values()))\n",
    "    all_bar_ci.append(list(bar_ci.values()))"
   ]
  },
  {
   "cell_type": "code",
   "execution_count": 95,
   "id": "da1adf9b",
   "metadata": {},
   "outputs": [],
   "source": [
    "all_labels = ['Vaccine resistant mutant less infectious', 'Vaccine resistant mutant equally infectious']"
   ]
  },
  {
   "cell_type": "code",
   "execution_count": 98,
   "id": "d2896a57",
   "metadata": {},
   "outputs": [
    {
     "data": {
      "image/png": "[encoded data removed]",
      "text/plain": [
       "<Figure size 720x504 with 1 Axes>"
      ]
     },
     "metadata": {
      "needs_background": "light"
     },
     "output_type": "display_data"
    }
   ],
   "source": [
    "x = np.arange(0,4.,1)  # the label locations\n",
    "width = 0.1  # the width of the bars\n",
    "pos = np.arange(0,3.,0.5)\n",
    "\n",
    "fig, ax = plt.subplots(figsize = (10,7))\n",
    "\n",
    "for n in range(2):\n",
    "    bars = ax.bar(x + pos[n]*width*2, np.array(all_bar_results)[:,n], width, yerr = np.array(all_bar_ci)[:,n], label=all_labels[n])\n",
    "    \n",
    "\n",
    "ax.set_ylabel('Probability of Emergence of \\n Vaccine Resistance', fontsize = 16)\n",
    "ax.set_xticks(x+0.2)\n",
    "ax.set_xticklabels(['$L$ = ' + str(x[0]) + '\\n$c$ = ' + str(x[1])  for x in combs_cl], fontsize = 14)\n",
    "#ax.legend(fontsize = 14, bbox_to_anchor = (2.,1.1))\n",
    "ax.set_ylim(0.,0.11)\n",
    "ax.tick_params(labelsize = '14')\n",
    "\n",
    "plt.savefig('less_infectious_barchart_mu6.jpg', dpi = 400, bbox_inches = 'tight')"
   ]
  },
  {
   "cell_type": "code",
   "execution_count": null,
   "id": "724d9bad",
   "metadata": {},
   "outputs": [],
   "source": []
  }
 ],
 "metadata": {
  "kernelspec": {
   "display_name": "Python 3",
   "language": "python",
   "name": "python3"
  },
  "language_info": {
   "codemirror_mode": {
    "name": "ipython",
    "version": 3
   },
   "file_extension": ".py",
   "mimetype": "text/x-python",
   "name": "python",
   "nbconvert_exporter": "python",
   "pygments_lexer": "ipython3",
   "version": "3.8.8"
  }
 },
 "nbformat": 4,
 "nbformat_minor": 5
}
