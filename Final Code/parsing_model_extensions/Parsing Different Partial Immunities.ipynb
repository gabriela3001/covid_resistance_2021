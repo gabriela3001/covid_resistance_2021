{
 "cells": [
  {
   "cell_type": "code",
   "execution_count": 2,
   "id": "a9192223",
   "metadata": {},
   "outputs": [],
   "source": [
    "import os\n",
    "import pickle\n",
    "from collections import defaultdict\n",
    "from itertools import product\n",
    "import numpy as np\n",
    "import matplotlib.pyplot as plt\n",
    "import pandas as pd"
   ]
  },
  {
   "cell_type": "code",
   "execution_count": 3,
   "id": "0a3f1288",
   "metadata": {},
   "outputs": [],
   "source": [
    "def parse_results(directory, length_param_grid):\n",
    "    \n",
    "    files = [x for x in os.listdir(directory) if 'results' in x and '.txt.txt' not in x]\n",
    "\n",
    "    results_dict = defaultdict(lambda:0)\n",
    "    number_runs = defaultdict(lambda:0)\n",
    "    all_params = []\n",
    "\n",
    "    for file in files:\n",
    "        param = int(file.split('_')[-2][1:])\n",
    "        run_number = int(file.split('_')[-1].split('.')[0][1:])\n",
    "\n",
    "        with open(directory+file, 'rb') as f:\n",
    "            result = pickle.load(f)\n",
    "\n",
    "        results_dict[param] += sum(result['presence_VR'])\n",
    "        number_runs[param] += 10\n",
    "\n",
    "        all_params.append((param, run_number))\n",
    "\n",
    "    results_dict = dict(results_dict)\n",
    "    \n",
    "    # check that all runs are present\n",
    "    missing = set(product(range(length_param_grid), range(100))).symmetric_difference(set(all_params))\n",
    "    if len(missing) == 0:\n",
    "        print('All runs have been parsed')\n",
    "    else:\n",
    "        print('Some runs are missing:', missing)\n",
    "    \n",
    "    percentage_takeover = dict(zip(list(results_dict.keys()), [results_dict[p]/number_runs[p] for p in list(results_dict.keys())]))\n",
    "    confidence_intervals =  dict(zip(list(results_dict.keys()),[1.96*np.sqrt((percentage_takeover[p]*(1-percentage_takeover[p]))/1000) for p in list(results_dict.keys())]))\n",
    "    \n",
    "    return(percentage_takeover, confidence_intervals)"
   ]
  },
  {
   "cell_type": "code",
   "execution_count": 4,
   "id": "38c0c2b0",
   "metadata": {},
   "outputs": [],
   "source": [
    "def get_index(df, desired_dict):\n",
    "\n",
    "    subdf = df.copy()\n",
    "\n",
    "    for keyval in desired_dict:\n",
    "        if keyval in subdf.columns:\n",
    "            subdf = subdf[subdf[keyval] == desired_dict[keyval]]\n",
    "        \n",
    "    # check that index unique\n",
    "    if len(list(subdf.index)) != 1:\n",
    "        print('Index not unique')\n",
    "        \n",
    "    return(subdf.index[0])\n",
    "\n",
    "def get_paramgrid(file):\n",
    "    with open(file, 'rb') as f:\n",
    "        paramgrid = pickle.load(f)\n",
    "    df = pd.DataFrame(paramgrid)  \n",
    "    return(df)"
   ]
  },
  {
   "cell_type": "code",
   "execution_count": 5,
   "id": "b8a73d1c",
   "metadata": {},
   "outputs": [
    {
     "name": "stdout",
     "output_type": "stream",
     "text": [
      "All runs have been parsed\n",
      "All runs have been parsed\n"
     ]
    }
   ],
   "source": [
    "basic_results, basic_ci = parse_results('bar_chart/basic_model/', 72)\n",
    "diffimmun_results, diffimmun_ci = parse_results('bar_chart/different_immunities/', 18)"
   ]
  },
  {
   "cell_type": "code",
   "execution_count": 6,
   "id": "aab4c9c6",
   "metadata": {},
   "outputs": [],
   "source": [
    "df_basic, df_diffimmun = get_paramgrid('bar_chart/basic_model/paramgrid_appearance_barchart_basic.txt'),get_paramgrid('bar_chart/different_immunities/paramgrid_appearance_barchart_different_immunities.txt')"
   ]
  },
  {
   "cell_type": "code",
   "execution_count": 7,
   "id": "8771ac99",
   "metadata": {},
   "outputs": [],
   "source": [
    "q = 0.4\n",
    "delta = 1\n",
    "mu = 1e-7\n",
    "f = 1\n",
    "\n",
    "combs_cl = [(100,1000),(100,10000),(500,1000),(500,10000)]"
   ]
  },
  {
   "cell_type": "code",
   "execution_count": 8,
   "id": "77dfb235",
   "metadata": {},
   "outputs": [],
   "source": [
    "all_simulations = ['basic', 'different_immunities']\n",
    "\n",
    "all_results = dict(zip(all_simulations, [basic_results, diffimmun_results]))\n",
    "all_ci = dict(zip(all_simulations, [basic_ci, diffimmun_ci]))\n",
    "dfs = dict(zip(all_simulations, [df_basic, df_diffimmun]))"
   ]
  },
  {
   "cell_type": "code",
   "execution_count": 9,
   "id": "7396355f",
   "metadata": {},
   "outputs": [],
   "source": [
    "all_bar_results = [] \n",
    "all_bar_ci = [] \n",
    "\n",
    "for L, c in combs_cl:\n",
    "    bar_results = defaultdict(list)\n",
    "    bar_ci = defaultdict(list)\n",
    "    desired_dict = {'delta':delta, 'mu':mu, 'q':q, 'c':c, 'i_threshold':L}\n",
    "\n",
    "    for sim in all_simulations:\n",
    "        bar_results[sim] = all_results[sim][get_index(dfs[sim], desired_dict)]\n",
    "        bar_ci[sim] = all_ci[sim][get_index(dfs[sim], desired_dict)]\n",
    "\n",
    "\n",
    "    all_bar_results.append(list(bar_results.values()))\n",
    "    all_bar_ci.append(list(bar_ci.values()))"
   ]
  },
  {
   "cell_type": "code",
   "execution_count": 10,
   "id": "c1b9d21d",
   "metadata": {},
   "outputs": [],
   "source": [
    "all_labels = ['Basic model', 'Different Partial Immunities for Recovered/Vaccinated']"
   ]
  },
  {
   "cell_type": "code",
   "execution_count": 14,
   "id": "5e78ebd3",
   "metadata": {},
   "outputs": [
    {
     "data": {
      "image/png": "[encoded data removed]",
      "text/plain": [
       "<Figure size 720x504 with 1 Axes>"
      ]
     },
     "metadata": {
      "needs_background": "light"
     },
     "output_type": "display_data"
    }
   ],
   "source": [
    "x = np.arange(0,4.,1)  # the label locations\n",
    "width = 0.1  # the width of the bars\n",
    "pos = np.arange(0,3.,0.5)\n",
    "\n",
    "fig, ax = plt.subplots(figsize = (10,7))\n",
    "\n",
    "for n in range(2):\n",
    "    bars = ax.bar(x + pos[n]*width*2, np.array(all_bar_results)[:,n], width, yerr = np.array(all_bar_ci)[:,n], label=all_labels[n])\n",
    "    \n",
    "\n",
    "ax.set_ylabel('Probability of Emergence of \\n Vaccine Resistance', fontsize = 16)\n",
    "ax.set_xticks(x+0.2)\n",
    "ax.set_xticklabels(['$L$ = ' + str(x[0]) + '\\n$c$ = ' + str(x[1])  for x in combs_cl], fontsize = 14)\n",
    "#ax.legend(fontsize = 14, bbox_to_anchor = (1.8,1.))\n",
    "ax.set_ylim(0.,0.011)\n",
    "ax.tick_params(labelsize = '14')\n",
    "plt.savefig('Fig_SEP6_different_immunities_mu7.jpg', dpi=400)"
   ]
  },
  {
   "cell_type": "code",
   "execution_count": 38,
   "id": "35c6a3f0",
   "metadata": {},
   "outputs": [
    {
     "data": {
      "text/plain": [
       "1158.0"
      ]
     },
     "execution_count": 38,
     "metadata": {},
     "output_type": "execute_result"
    }
   ],
   "source": [
    "1737/1.5"
   ]
  },
  {
   "cell_type": "code",
   "execution_count": 39,
   "id": "2034c080",
   "metadata": {},
   "outputs": [
    {
     "data": {
      "text/plain": [
       "43.17789291882556"
      ]
     },
     "execution_count": 39,
     "metadata": {},
     "output_type": "execute_result"
    }
   ],
   "source": [
    "50000/1158"
   ]
  },
  {
   "cell_type": "code",
   "execution_count": null,
   "id": "7d5064aa",
   "metadata": {},
   "outputs": [],
   "source": []
  }
 ],
 "metadata": {
  "kernelspec": {
   "display_name": "Python 3",
   "language": "python",
   "name": "python3"
  },
  "language_info": {
   "codemirror_mode": {
    "name": "ipython",
    "version": 3
   },
   "file_extension": ".py",
   "mimetype": "text/x-python",
   "name": "python",
   "nbconvert_exporter": "python",
   "pygments_lexer": "ipython3",
   "version": "3.8.8"
  }
 },
 "nbformat": 4,
 "nbformat_minor": 5
}
